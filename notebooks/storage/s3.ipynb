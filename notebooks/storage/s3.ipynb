{
 "cells": [
  {
   "cell_type": "markdown",
   "metadata": {},
   "source": [
    "# S3 storage utility functions"
   ]
  },
  {
   "cell_type": "code",
   "execution_count": 1,
   "metadata": {},
   "outputs": [],
   "source": [
    "%load_ext autoreload\n",
    "%autoreload 2"
   ]
  },
  {
   "cell_type": "code",
   "execution_count": 2,
   "metadata": {
    "collapsed": true
   },
   "outputs": [],
   "source": [
    "import os\n",
    "import stat\n",
    "import sys\n",
    "\n",
    "from pprint import pprint"
   ]
  },
  {
   "cell_type": "code",
   "execution_count": 3,
   "metadata": {
    "collapsed": true
   },
   "outputs": [],
   "source": [
    "sys.path.append('..')"
   ]
  },
  {
   "cell_type": "markdown",
   "metadata": {},
   "source": [
    "Dictionary to be saved"
   ]
  },
  {
   "cell_type": "code",
   "execution_count": 4,
   "metadata": {
    "collapsed": true
   },
   "outputs": [],
   "source": [
    "house_info = {'city': 'den haag',\n",
    "              'type': 'apartment',\n",
    "              'rooms': 3,\n",
    "              'occupants': ['rod', 'nup']}"
   ]
  },
  {
   "cell_type": "markdown",
   "metadata": {},
   "source": [
    "### functions"
   ]
  },
  {
   "cell_type": "markdown",
   "metadata": {},
   "source": [
    "Make sure to have the credentials in `~/.aws/credentials`\n",
    "```\n",
    "[defaualt]\n",
    "aws_access_key_id=\n",
    "aws_secret_access_key=\n",
    "```\n",
    "and if necessary, specify a region in `~/.aws/config` \n",
    "```\n",
    "[default]\n",
    "region=\n",
    "```"
   ]
  },
  {
   "cell_type": "code",
   "execution_count": 29,
   "metadata": {
    "collapsed": true
   },
   "outputs": [],
   "source": [
    "import boto3\n",
    "\n",
    "from ufuncs.storage import s3_put_object\n",
    "from ufuncs.storage import s3_get_object"
   ]
  },
  {
   "cell_type": "code",
   "execution_count": 30,
   "metadata": {
    "collapsed": true
   },
   "outputs": [],
   "source": [
    "s3_path = '/godatadriven-sandbox/test.pkl'\n",
    "s3 = boto3.resource('s3')"
   ]
  },
  {
   "cell_type": "markdown",
   "metadata": {},
   "source": [
    "save file"
   ]
  },
  {
   "cell_type": "code",
   "execution_count": 31,
   "metadata": {},
   "outputs": [
    {
     "data": {
      "text/plain": [
       "{'ETag': '\"4589888fd546fd0555f8c69a85343a4e\"',\n",
       " 'ResponseMetadata': {'HTTPHeaders': {'content-length': '0',\n",
       "   'date': 'Fri, 16 Jun 2017 19:05:06 GMT',\n",
       "   'etag': '\"4589888fd546fd0555f8c69a85343a4e\"',\n",
       "   'server': 'AmazonS3',\n",
       "   'x-amz-id-2': 'yLe9BiRa7d3NvvK6q40mTnp/qGY7UfHK2yXU/RySVpBvMamyOCacirRsF+D2/HV4+pqczn5tKW0=',\n",
       "   'x-amz-request-id': '9CCF554CBAE5915B'},\n",
       "  'HTTPStatusCode': 200,\n",
       "  'HostId': 'yLe9BiRa7d3NvvK6q40mTnp/qGY7UfHK2yXU/RySVpBvMamyOCacirRsF+D2/HV4+pqczn5tKW0=',\n",
       "  'RequestId': '9CCF554CBAE5915B',\n",
       "  'RetryAttempts': 0}}"
      ]
     },
     "execution_count": 31,
     "metadata": {},
     "output_type": "execute_result"
    }
   ],
   "source": [
    "s3_put_object(house_info, storage_path=s3_path)"
   ]
  },
  {
   "cell_type": "code",
   "execution_count": 32,
   "metadata": {},
   "outputs": [
    {
     "name": "stdout",
     "output_type": "stream",
     "text": [
      "File Permissions:\n",
      "[{'Grantee': {'ID': '2917aaf5ecd3d435c84b4fc250fc3f1a628413bb8b65c3874d83809faf419106',\n",
      "              'Type': 'CanonicalUser'},\n",
      "  'Permission': 'FULL_CONTROL'}]\n"
     ]
    }
   ],
   "source": [
    "print('File Permissions:')\n",
    "pprint(s3.Object('godatadriven-sandbox', 'test.pkl').Acl().grants)"
   ]
  },
  {
   "cell_type": "markdown",
   "metadata": {},
   "source": [
    "save and overwrite"
   ]
  },
  {
   "cell_type": "code",
   "execution_count": 33,
   "metadata": {},
   "outputs": [
    {
     "data": {
      "text/plain": [
       "{'ETag': '\"4589888fd546fd0555f8c69a85343a4e\"',\n",
       " 'ResponseMetadata': {'HTTPHeaders': {'content-length': '0',\n",
       "   'date': 'Fri, 16 Jun 2017 19:05:11 GMT',\n",
       "   'etag': '\"4589888fd546fd0555f8c69a85343a4e\"',\n",
       "   'server': 'AmazonS3',\n",
       "   'x-amz-id-2': 'DcH0I1xhGxqaKuZC+yzKLQy1rBLvwQscHdaps3VWyAWQvpdEQ9H3MSKZSfzj0iO8i3q1mZ148R8=',\n",
       "   'x-amz-request-id': 'AF150ADDA29D5B61'},\n",
       "  'HTTPStatusCode': 200,\n",
       "  'HostId': 'DcH0I1xhGxqaKuZC+yzKLQy1rBLvwQscHdaps3VWyAWQvpdEQ9H3MSKZSfzj0iO8i3q1mZ148R8=',\n",
       "  'RequestId': 'AF150ADDA29D5B61',\n",
       "  'RetryAttempts': 0}}"
      ]
     },
     "execution_count": 33,
     "metadata": {},
     "output_type": "execute_result"
    }
   ],
   "source": [
    "s3_put_object(house_info, storage_path=s3_path)"
   ]
  },
  {
   "cell_type": "code",
   "execution_count": 34,
   "metadata": {},
   "outputs": [
    {
     "name": "stdout",
     "output_type": "stream",
     "text": [
      "File Permissions:\n",
      "[{'Grantee': {'ID': '2917aaf5ecd3d435c84b4fc250fc3f1a628413bb8b65c3874d83809faf419106',\n",
      "              'Type': 'CanonicalUser'},\n",
      "  'Permission': 'FULL_CONTROL'}]\n"
     ]
    }
   ],
   "source": [
    "print('File Permissions:')\n",
    "pprint(s3.Object('godatadriven-sandbox', 'test.pkl').Acl().grants)"
   ]
  },
  {
   "cell_type": "markdown",
   "metadata": {},
   "source": [
    "save and not overwrite"
   ]
  },
  {
   "cell_type": "code",
   "execution_count": 35,
   "metadata": {},
   "outputs": [
    {
     "ename": "FileExistsError",
     "evalue": "S3 object '/godatadriven-sandbox/test.pkl' already exists and versioning is Suspended. Argument overwrite is set to False.",
     "output_type": "error",
     "traceback": [
      "\u001b[0;31m---------------------------------------------------------------------------\u001b[0m",
      "\u001b[0;31mFileExistsError\u001b[0m                           Traceback (most recent call last)",
      "\u001b[0;32m<ipython-input-35-90c0998094de>\u001b[0m in \u001b[0;36m<module>\u001b[0;34m()\u001b[0m\n\u001b[0;32m----> 1\u001b[0;31m \u001b[0ms3_put_object\u001b[0m\u001b[0;34m(\u001b[0m\u001b[0mhouse_info\u001b[0m\u001b[0;34m,\u001b[0m \u001b[0mstorage_path\u001b[0m\u001b[0;34m=\u001b[0m\u001b[0ms3_path\u001b[0m\u001b[0;34m,\u001b[0m \u001b[0moverwrite\u001b[0m\u001b[0;34m=\u001b[0m\u001b[0;32mFalse\u001b[0m\u001b[0;34m)\u001b[0m\u001b[0;34m\u001b[0m\u001b[0m\n\u001b[0m",
      "\u001b[0;32m~/repositories/utility-functions/ufuncs/storage/s3.py\u001b[0m in \u001b[0;36ms3_put_object\u001b[0;34m(obj, storage_path, overwrite, s3_conn, **kwargs)\u001b[0m\n\u001b[1;32m    117\u001b[0m         raise FileExistsError(\"S3 object '{}' already exists and versioning \"\n\u001b[1;32m    118\u001b[0m                               \u001b[0;34m\"is {}. Argument overwrite is set to {}.\"\u001b[0m\u001b[0;34m\u001b[0m\u001b[0m\n\u001b[0;32m--> 119\u001b[0;31m                               .format(storage_path, versioning, overwrite))\n\u001b[0m\u001b[1;32m    120\u001b[0m \u001b[0;34m\u001b[0m\u001b[0m\n\u001b[1;32m    121\u001b[0m \u001b[0;34m\u001b[0m\u001b[0m\n",
      "\u001b[0;31mFileExistsError\u001b[0m: S3 object '/godatadriven-sandbox/test.pkl' already exists and versioning is Suspended. Argument overwrite is set to False."
     ]
    }
   ],
   "source": [
    "s3_put_object(house_info, storage_path=s3_path, overwrite=False)"
   ]
  },
  {
   "cell_type": "markdown",
   "metadata": {},
   "source": [
    "save, overwrite and set permission to `public-read`"
   ]
  },
  {
   "cell_type": "code",
   "execution_count": 36,
   "metadata": {},
   "outputs": [
    {
     "data": {
      "text/plain": [
       "{'ETag': '\"4589888fd546fd0555f8c69a85343a4e\"',\n",
       " 'ResponseMetadata': {'HTTPHeaders': {'content-length': '0',\n",
       "   'date': 'Fri, 16 Jun 2017 19:05:26 GMT',\n",
       "   'etag': '\"4589888fd546fd0555f8c69a85343a4e\"',\n",
       "   'server': 'AmazonS3',\n",
       "   'x-amz-id-2': 'XFRdRuWPq62vXyuX3lvObAGnwHJhDUB2A4QyCO0OtCzpqQ+HLFkUI3rAF5l7cFSHb0N2v9F0jwk=',\n",
       "   'x-amz-request-id': '6924239F92ABA7BB'},\n",
       "  'HTTPStatusCode': 200,\n",
       "  'HostId': 'XFRdRuWPq62vXyuX3lvObAGnwHJhDUB2A4QyCO0OtCzpqQ+HLFkUI3rAF5l7cFSHb0N2v9F0jwk=',\n",
       "  'RequestId': '6924239F92ABA7BB',\n",
       "  'RetryAttempts': 0}}"
      ]
     },
     "execution_count": 36,
     "metadata": {},
     "output_type": "execute_result"
    }
   ],
   "source": [
    "s3_put_object(house_info, storage_path=s3_path, ACL='public-read')"
   ]
  },
  {
   "cell_type": "code",
   "execution_count": 37,
   "metadata": {},
   "outputs": [
    {
     "name": "stdout",
     "output_type": "stream",
     "text": [
      "File Permissions:\n",
      "[{'Grantee': {'ID': '2917aaf5ecd3d435c84b4fc250fc3f1a628413bb8b65c3874d83809faf419106',\n",
      "              'Type': 'CanonicalUser'},\n",
      "  'Permission': 'FULL_CONTROL'},\n",
      " {'Grantee': {'Type': 'Group',\n",
      "              'URI': 'http://acs.amazonaws.com/groups/global/AllUsers'},\n",
      "  'Permission': 'READ'}]\n"
     ]
    }
   ],
   "source": [
    "print('File Permissions:')\n",
    "pprint(s3.Object('godatadriven-sandbox', 'test.pkl').Acl().grants)"
   ]
  },
  {
   "cell_type": "markdown",
   "metadata": {},
   "source": [
    "reading object"
   ]
  },
  {
   "cell_type": "code",
   "execution_count": 39,
   "metadata": {},
   "outputs": [
    {
     "data": {
      "text/plain": [
       "{'city': 'den haag',\n",
       " 'occupants': ['rod', 'nup'],\n",
       " 'rooms': 3,\n",
       " 'type': 'apartment'}"
      ]
     },
     "execution_count": 39,
     "metadata": {},
     "output_type": "execute_result"
    }
   ],
   "source": [
    "s3_get_object(s3_path)"
   ]
  },
  {
   "cell_type": "markdown",
   "metadata": {},
   "source": [
    "delete file"
   ]
  },
  {
   "cell_type": "code",
   "execution_count": 40,
   "metadata": {},
   "outputs": [
    {
     "data": {
      "text/plain": [
       "{'DeleteMarker': True,\n",
       " 'ResponseMetadata': {'HTTPHeaders': {'date': 'Fri, 16 Jun 2017 19:05:57 GMT',\n",
       "   'server': 'AmazonS3',\n",
       "   'x-amz-delete-marker': 'true',\n",
       "   'x-amz-id-2': 'Fu9iRlwPJW5QcAM+22kcofKRxwyzI5SZV6Psq8edPUQdfS+nCLuQhMZMH7c2p5H6EbRkqN2bcSA=',\n",
       "   'x-amz-request-id': '7FF0BED65C75DC19',\n",
       "   'x-amz-version-id': 'null'},\n",
       "  'HTTPStatusCode': 204,\n",
       "  'HostId': 'Fu9iRlwPJW5QcAM+22kcofKRxwyzI5SZV6Psq8edPUQdfS+nCLuQhMZMH7c2p5H6EbRkqN2bcSA=',\n",
       "  'RequestId': '7FF0BED65C75DC19',\n",
       "  'RetryAttempts': 0},\n",
       " 'VersionId': 'null'}"
      ]
     },
     "execution_count": 40,
     "metadata": {},
     "output_type": "execute_result"
    }
   ],
   "source": [
    "s3.Object('godatadriven-sandbox', 'test.pkl').delete()"
   ]
  }
 ],
 "metadata": {
  "kernelspec": {
   "display_name": "Python 3",
   "language": "python",
   "name": "python3"
  },
  "language_info": {
   "codemirror_mode": {
    "name": "ipython",
    "version": 3
   },
   "file_extension": ".py",
   "mimetype": "text/x-python",
   "name": "python",
   "nbconvert_exporter": "python",
   "pygments_lexer": "ipython3",
   "version": "3.6.1"
  }
 },
 "nbformat": 4,
 "nbformat_minor": 2
}
